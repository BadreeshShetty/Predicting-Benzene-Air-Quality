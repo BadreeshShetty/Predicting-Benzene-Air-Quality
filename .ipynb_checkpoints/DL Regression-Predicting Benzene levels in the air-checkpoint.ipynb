{
 "cells": [
  {
   "cell_type": "code",
   "execution_count": null,
   "metadata": {
    "collapsed": true
   },
   "outputs": [],
   "source": [
    "from keras.layers import Input\n",
    "from keras.layers.core import dense\n",
    "from keras.models import Model\n",
    "from sklearn.preprocessing import StandardScaler\n",
    "import matplotlib.pyplot as plt\n",
    "import numpy as np\n",
    "import os\n",
    "import pandas as pd"
   ]
  },
  {
   "cell_type": "code",
   "execution_count": null,
   "metadata": {
    "collapsed": true
   },
   "outputs": [],
   "source": [
    "aqdf = pd.read_csv(AIRQUALITY_FILE, sep=\";\", decimal=\",\", header=0)\n",
    "\n",
    "# remove first and last 2 cols \n",
    "del aqdf[\"Date\"]\n",
    "del aqdf[\"Time\"]\n",
    "del aqdf[\"Unnamed: 15\"]\n",
    "del aqdf[\"Unnamed: 16\"]\n",
    "\n",
    "# fill NaNs in each column with the mean value\n",
    "aqdf = aqdf.fillna(aqdf.mean())\n",
    "\n",
    "Xorig = aqdf.as_matrix()"
   ]
  },
  {
   "cell_type": "code",
   "execution_count": null,
   "metadata": {
    "collapsed": true
   },
   "outputs": [],
   "source": [
    "scaler = StandardScaler()\n",
    "Xscaled = scaler.fit_transform(Xorig)\n",
    "# store these off for predictions with unseen data\n",
    "Xmeans = scaler.mean_\n",
    "Xstds = scaler.scale_\n",
    "\n",
    "y = Xscaled[:, 3]\n",
    "X = np.delete(Xscaled, 3, axis=1)"
   ]
  },
  {
   "cell_type": "code",
   "execution_count": null,
   "metadata": {
    "collapsed": true
   },
   "outputs": [],
   "source": [
    "train_size = int(0.7 * X.shape[0])\n",
    "Xtrain, Xtest, ytrain, ytest = X[0:train_size], X[train_size:], \n",
    "    y[0:train_size], y[train_size:]"
   ]
  },
  {
   "cell_type": "code",
   "execution_count": null,
   "metadata": {
    "collapsed": true
   },
   "outputs": [],
   "source": [
    "readings = Input(shape=(12,))\n",
    "x = dense(8, activation=\"relu\", kernel_initializer=\"glorot_uniform\")(readings)\n",
    "benzene = dense(1, kernel_initializer=\"glorot_uniform\")(x)\n",
    "\n",
    "model = Model(inputs=[readings], outputs=[benzene])\n",
    "model.compile(loss=\"mse\", optimizer=\"adam\")"
   ]
  },
  {
   "cell_type": "code",
   "execution_count": null,
   "metadata": {
    "collapsed": true
   },
   "outputs": [],
   "source": [
    "NUM_EPOCHS = 20\n",
    "BATCH_SIZE = 10\n",
    "\n",
    "history = model.fit(Xtrain, ytrain, batch_size=BATCH_SIZE, epochs=NUM_EPOCHS,\n",
    "    validation_split=0.2)"
   ]
  },
  {
   "cell_type": "code",
   "execution_count": null,
   "metadata": {
    "collapsed": true
   },
   "outputs": [],
   "source": [
    "ytest_ = model.predict(Xtest).flatten()\n",
    "for i in range(10):\n",
    "    label = (ytest[i] * Xstds[3]) + Xmeans[3]\n",
    "    prediction = (ytest_[i] * Xstds[3]) + Xmeans[3]\n",
    "    print(\"Benzene Conc. expected: {:.3f}, predicted: {:.3f}\".format(label, prediction))"
   ]
  },
  {
   "cell_type": "code",
   "execution_count": null,
   "metadata": {
    "collapsed": true
   },
   "outputs": [],
   "source": [
    "plt.plot(np.arange(ytest.shape[0]), (ytest * Xstds[3]) / Xmeans[3], \n",
    "    color=\"b\", label=\"actual\")\n",
    "plt.plot(np.arange(ytest_.shape[0]), (ytest_ * Xstds[3]) / Xmeans[3], \n",
    "    color=\"r\", alpha=0.5, label=\"predicted\")\n",
    "plt.xlabel(\"time\")\n",
    "plt.ylabel(\"C6H6 concentrations\")\n",
    "plt.legend(loc=\"best\")\n",
    "plt.show()"
   ]
  }
 ],
 "metadata": {
  "kernelspec": {
   "display_name": "Python 3",
   "language": "python",
   "name": "python3"
  },
  "language_info": {
   "codemirror_mode": {
    "name": "ipython",
    "version": 3
   },
   "file_extension": ".py",
   "mimetype": "text/x-python",
   "name": "python",
   "nbconvert_exporter": "python",
   "pygments_lexer": "ipython3",
   "version": "3.6.3"
  }
 },
 "nbformat": 4,
 "nbformat_minor": 2
}
